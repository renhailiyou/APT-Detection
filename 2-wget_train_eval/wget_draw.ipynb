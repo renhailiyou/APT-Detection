{
 "cells": [
  {
   "cell_type": "code",
   "execution_count": 2,
   "metadata": {},
   "outputs": [
    {
     "name": "stdout",
     "output_type": "stream",
     "text": [
      "Classification Report:\n",
      "               precision    recall  f1-score   support\n",
      "\n",
      "         0.0    1.00000   0.96000   0.97959        25\n",
      "         1.0    0.83333   1.00000   0.90909         5\n",
      "\n",
      "    accuracy                        0.96667        30\n",
      "   macro avg    0.91667   0.98000   0.94434        30\n",
      "weighted avg    0.97222   0.96667   0.96784        30\n",
      "\n"
     ]
    }
   ],
   "source": [
    "import numpy as np\n",
    "from sklearn.metrics import classification_report\n",
    "\n",
    "test_y_list = []\n",
    "test_y_hat_list = []\n",
    "\n",
    "test_y = np.append(np.ones(5), np.zeros(25))\n",
    "test_y_hat = np.append(np.ones(6), np.zeros(24))\n",
    "test_y_list.extend(test_y.tolist())\n",
    "test_y_hat_list.extend(test_y_hat.tolist())\n",
    "report = classification_report(test_y_list, test_y_hat_list,  digits=5)\n",
    "print(\"Classification Report:\\n\", report)"
   ]
  }
 ],
 "metadata": {
  "kernelspec": {
   "display_name": "pytorch",
   "language": "python",
   "name": "python3"
  },
  "language_info": {
   "codemirror_mode": {
    "name": "ipython",
    "version": 3
   },
   "file_extension": ".py",
   "mimetype": "text/x-python",
   "name": "python",
   "nbconvert_exporter": "python",
   "pygments_lexer": "ipython3",
   "version": "3.8.0"
  }
 },
 "nbformat": 4,
 "nbformat_minor": 2
}
